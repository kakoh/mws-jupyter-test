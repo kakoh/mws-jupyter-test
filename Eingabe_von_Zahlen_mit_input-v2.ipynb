{
 "cells": [
  {
   "cell_type": "markdown",
   "metadata": {},
   "source": [
    "## Eingabe von Zahlen mit input()"
   ]
  },
  {
   "cell_type": "markdown",
   "metadata": {},
   "source": [
    "Die Funktion input() hat eine auf den ersten Blick überraschende Eigenschaft: Sie interpretiert alle eingegebenen Zahlen als Zeichen, d.h. auch Ziffern werden als Zeichen und nicht als Zahlen betrachtet. Das wird im folgenden Programm deutlich.\n",
    "Führen Sie den folgenden Code aus:"
   ]
  },
  {
   "cell_type": "code",
   "execution_count": null,
   "metadata": {},
   "outputs": [],
   "source": [
    "zahl = input(\"Bitte geben Sie eine Zahl ein: \")\n",
    "haelfte = zahl/2 \n",
    "print (\"Die Haelfte der eingebenen Zahl ist: \", zahl)"
   ]
  },
  {
   "cell_type": "markdown",
   "metadata": {},
   "source": [
    "Wie man sieht, es macht ja auch keinen Sinn, eine Zeichenkette durch die Zahl 2 zu teilen!\n",
    "Da Python Werte der Funktion input immer als Text („String“) interpretiert, muss man die eingegebenen Zeichen für dem Abspeichern in der Variablen mittels der Funktion float() in eine Kommazahl umwandeln:"
   ]
  },
  {
   "cell_type": "code",
   "execution_count": null,
   "metadata": {},
   "outputs": [],
   "source": [
    "zahl = float(input(\"Bitte geben Sie eine Zahl ein: \"))\n",
    "haelfte = zahl / 2\n",
    "print (\"Die Haelfte der eingebenen Zahl ist: \", haelfte)"
   ]
  },
  {
   "cell_type": "markdown",
   "metadata": {},
   "source": [
    "**Wichtiger Hinweis**:\n",
    "Soll eine Ganzzahl eingegeben werden, muss die Funktion *int()* benutzt werden, also z.B.:     "
   ]
  },
  {
   "cell_type": "code",
   "execution_count": null,
   "metadata": {},
   "outputs": [],
   "source": [
    "anzahlAutos = int(input(\"Anzahl Autos: \"))"
   ]
  },
  {
   "cell_type": "markdown",
   "metadata": {},
   "source": [
    "## Aufgabe: Kreisberechnung\n",
    "### Problemstellung\n",
    "Bei den bisherigen Programmen waren alle Werte fest vom Programmcode vorgegeben. Es bestand keine Möglichkeit für die Programmbenutzer, selber Werte in das Programm einzugeben. Diese Option wird jetzt gezeigt. Schreiben Sie dazu ein Programm, das den Inhalt einer Kreisfläche berechnet. Der Benutzer soll den Radius im Programm auf Aufforderung eingeben. Das Programm errechnet die passende Kreisfläche und gibt das Ergebnis aus.\n",
    "\n",
    "Formel für die Kreisfläche ($F$): \n",
    "$$F=r^2\\pi$$\n",
    "### Problemanalyse:\n",
    "Welche Ausgabedaten will man erhalten?"
   ]
  },
  {
   "cell_type": "raw",
   "metadata": {},
   "source": [
    "hier doppelklicken und ihre Lösung eingeben"
   ]
  },
  {
   "cell_type": "markdown",
   "metadata": {},
   "source": [
    "Welche Eingabedaten weden zur Bearbeitung benötigt?"
   ]
  },
  {
   "cell_type": "raw",
   "metadata": {},
   "source": [
    "hier doppelklicken und ihre Lösung eingeben"
   ]
  },
  {
   "cell_type": "markdown",
   "metadata": {},
   "source": [
    "Welche Eigenschaften haben Eingabedaten und Ausgabedaten? (Variablenliste)"
   ]
  },
  {
   "cell_type": "raw",
   "metadata": {},
   "source": [
    "hier doppelklicken und Ihre Lösung eingeben\n",
    "\n",
    "Bedeutung | Datentyp | Variable\n"
   ]
  },
  {
   "cell_type": "markdown",
   "metadata": {},
   "source": [
    "### Struktogramm"
   ]
  },
  {
   "cell_type": "markdown",
   "metadata": {},
   "source": [
    "![title](nsdiagramm.png)"
   ]
  },
  {
   "cell_type": "markdown",
   "metadata": {},
   "source": [
    "### Programmcode:"
   ]
  },
  {
   "cell_type": "code",
   "execution_count": null,
   "metadata": {},
   "outputs": [],
   "source": [
    "### hier geben die Schüler ihre Lösung ein und führen den Coden aus."
   ]
  },
  {
   "cell_type": "markdown",
   "metadata": {},
   "source": [
    "## Nette Features:\n",
    "Hier noch ein Beispiel der Visualisierung der Daten zusammen mit dem Bearbeiten von Arrays (über die for-Schleife):"
   ]
  },
  {
   "cell_type": "code",
   "execution_count": null,
   "metadata": {},
   "outputs": [],
   "source": [
    "%matplotlib inline\n",
    "import matplotlib.pyplot as plt\n",
    "baby_name = ['Alice','Charles','Diane','Edward']\n",
    "number_births = [96, 155, 66, 272]\n",
    "for i in range(len(number_births)):\n",
    "    number_births[i]=number_births[i]*2\n",
    "plt.plot(baby_name, number_births)"
   ]
  }
 ],
 "metadata": {
  "kernelspec": {
   "display_name": "Python 3",
   "language": "python",
   "name": "python3"
  },
  "language_info": {
   "codemirror_mode": {
    "name": "ipython",
    "version": 2
   },
   "file_extension": ".py",
   "mimetype": "text/x-python",
   "name": "python",
   "nbconvert_exporter": "python",
   "pygments_lexer": "ipython2",
   "version": "2.7.15+"
  }
 },
 "nbformat": 4,
 "nbformat_minor": 2
}
